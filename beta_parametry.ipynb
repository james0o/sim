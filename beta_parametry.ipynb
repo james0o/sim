{
 "cells": [
  {
   "cell_type": "code",
   "execution_count": 4,
   "metadata": {},
   "outputs": [],
   "source": [
    "from scipy.stats import beta\n",
    "import scipy.integrate as integrate\n",
    "import numpy as np\n",
    "import pandas as pd\n",
    "\n",
    "from scipy import optimize"
   ]
  },
  {
   "cell_type": "code",
   "execution_count": null,
   "metadata": {},
   "outputs": [],
   "source": [
    "n_cities = 200\n",
    "sequence = np.linspace(1/n_cities/2, 1-1/n_cities/2, num=n_cities)\n",
    "D = 0.2\n",
    "\n",
    "def mean_abs_deviation(a, b):\n",
    "    x = np.linspace(1/16_000, 1-1/16_000, 16_000)\n",
    "    return integrate.simpson(y=np.abs(x - beta.median(a, b))*beta.pdf(x, a, b), x=x)\n",
    "\n",
    "def functions(params, median_value):\n",
    "    a, b = params\n",
    "    return (mean_abs_deviation(a, b)-D)**2+(beta.median(a, b)-median_value)**2\n",
    "\n",
    "def calucate(m, start_point):\n",
    "    opt = optimize.minimize(functions, start_point, tol=1e-11, method='Nelder-Mead', args=m, options={'maxiter': 1e+4})\n",
    "    if opt['success']:return opt['x']\n",
    "    else: raise RuntimeError(f'{opt['message']}')"
   ]
  },
  {
   "cell_type": "code",
   "execution_count": 6,
   "metadata": {},
   "outputs": [],
   "source": [
    "L = []\n",
    "a, b = 0.5, 0.5\n",
    "for m in sequence[n_cities//2:]:\n",
    "    a, b = calucate(m, (a, b))\n",
    "    L.append((a, b))"
   ]
  },
  {
   "cell_type": "code",
   "execution_count": 15,
   "metadata": {},
   "outputs": [],
   "source": [
    "second_part = np.array(L)\n",
    "first_part = np.flip(second_part)\n",
    "df = pd.DataFrame(np.concatenate((first_part, second_part)), columns=['a', 'b'])\n",
    "df['median'] = beta.median(df.a, df.b)\n",
    "df['diff']  = abs(df['median']-np.array(sequence))\n",
    "df['true_value'] = sequence"
   ]
  },
  {
   "cell_type": "code",
   "execution_count": 17,
   "metadata": {},
   "outputs": [],
   "source": [
    "df.to_parquet(f'parametry_beta_D{int(100*D)}_n{n_cities}.parquet', index=False)"
   ]
  }
 ],
 "metadata": {
  "kernelspec": {
   "display_name": "Python 3",
   "language": "python",
   "name": "python3"
  },
  "language_info": {
   "codemirror_mode": {
    "name": "ipython",
    "version": 3
   },
   "file_extension": ".py",
   "mimetype": "text/x-python",
   "name": "python",
   "nbconvert_exporter": "python",
   "pygments_lexer": "ipython3",
   "version": "3.12.1"
  }
 },
 "nbformat": 4,
 "nbformat_minor": 2
}
